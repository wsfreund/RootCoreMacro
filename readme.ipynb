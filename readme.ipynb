{
 "cells": [
  {
   "cell_type": "markdown",
   "metadata": {},
   "source": [
    "# Ringer framework: RootCoreMacros package\n",
    "\n",
    "This package is a non-official plug-in for RootCore that offers a series of\n",
    "shell macros and functions. It makes easier for the user to build RootCore\n",
    "packages and to setup the RootCore environment automatically adding local project\n",
    "dependencies and executables to path.\n"
   ]
  },
  {
   "cell_type": "markdown",
   "metadata": {},
   "source": [
    "<h1 id=\"tocheading\">Table of Contents</h1>\n",
    "<div id=\"toc\"></div>"
   ]
  },
  {
   "cell_type": "markdown",
   "metadata": {},
   "source": [
    "# Usage\n",
    "\n",
    "The available shell files are:\n"
   ]
  },
  {
   "cell_type": "code",
   "execution_count": 9,
   "metadata": {
    "collapsed": false
   },
   "outputs": [
    {
     "name": "stdout",
     "output_type": "stream",
     "text": [
      "./buildthis.sh\n",
      "./setrootcore.sh\n",
      "./setup_modules.sh\n",
      "./base_env.sh\n",
      "./common_shell_fcns.sh\n",
      "./retrieve_python_info.sh\n"
     ]
    }
   ],
   "source": [
    "%%bash\n",
    "find . -name \"*.sh\""
   ]
  },
  {
   "cell_type": "markdown",
   "metadata": {},
   "source": [
    "A brief explanation on them:\n",
    "\n",
    "- [`buildthis.sh`](https://github.com/wsfreund/RootCoreMacros/tree/master/buildthis.sh): Used for compiling or cleaning the framework;\n",
    "- [`setrootcore.sh`](https://github.com/wsfreund/RootCoreMacros/tree/master/setrootcore.sh): Main shell script to setup the RootCore local project. It also changes the variables of the shell environment to hold project dependencies and adds its executables to the shell path;\n",
    "- [`setup_modules.sh`](https://github.com/wsfreund/RootCoreMacros/tree/master/setup_modules.sh): Script for making easier the interaction with `git submodules` for git newbies. It must be used right after cloning the framework;\n",
    "- [`base_env.sh`](https://github.com/wsfreund/RootCoreMacros/tree/master/base_env.sh): Contains the basic environment variables to be used by dependent packages;\n",
    "- [`common_shell_fcns.sh`](https://github.com/wsfreund/RootCoreMacros/tree/master/common_shell_fcns.sh): Contains the shell functions that may be used by all dependent packages;\n",
    "- [`retrieve_python_info.sh`](https://github.com/wsfreund/RootCoreMacros/tree/master/retrieve_python_info.sh): A shell script to determine python installation place and other related variables."
   ]
  },
  {
   "cell_type": "markdown",
   "metadata": {},
   "source": [
    "## setrootcore.sh\n",
    "\n",
    "This script must be sourced (otherwise the environment changes wouldn't make effect on the current shell process). It changes the shell (tested with bash and zsh) environment by setting the RootCore environment, also adding other local project dependencies to the environment. If the environment has already been previously compiled, all you need to do is to run this script to have access to all functionalities provided by the local RootCore project. \n",
    "\n",
    "It detects if another RootCore environment was previously set and, if so, disables it to set the new RootCore environment on the base path where the `setrootcore.sh`file is. \n",
    "\n",
    "The standard release is the RootCore `Base`, where you will have access to ATLAS base framework, with xAOD access and many other functionalities. The release can be changed by specifying the `--release` flag. As this is not needed for performing some of the frameworks functionalities, you can set it on a machine isolated from the CERN network. The `--release` flag does not make any effect if it is being sourced outside the CERN network.\n",
    "\n",
    "The `--no-env-setup` flag can be used if it is needed to set only the RootCore environment, but not to source the plug-in specific environment files.\n",
    "\n",
    "Finally, the `--grid` flag is used for specifying that the environment is being set inside the CERN grid. However, users might want to call it if single-core should be used."
   ]
  },
  {
   "cell_type": "code",
   "execution_count": 8,
   "metadata": {
    "collapsed": false
   },
   "outputs": [
    {
     "name": "stdout",
     "output_type": "stream",
     "text": [
      "Usage: bash [--silent] [--release=Base,2.3.22] [--no-env-setup]\n",
      "                [--grid]\n",
      "\n",
      "Set current shell to use this folder RootCore environment. This should be\n",
      "sourced, otherwise it won't change your shell environment and you may\n",
      "have issues using RootCore.\n",
      "\n",
      "When no CVMFS is available, it will download the latest release using svn.\n",
      "Thus, you need to have svn installed to be able to set the environment with\n",
      "no CVMFS access.\n",
      "\n",
      "    -h                display this help and return\n",
      "    -s|--silent       Don't print any message.\n",
      "    -r|--release      The RootCore release it should use. This only takes\n",
      "                      effect if used with CVMFS access. \n",
      "   --no-env-setup     Do not source new environment files.\n",
      "    --grid            Flag that environment should be set for the grid (set\n",
      "                      single-thread)\n"
     ]
    }
   ],
   "source": [
    "%%bash\n",
    "source $ROOTCOREBIN/../setrootcore.sh -h"
   ]
  },
  {
   "cell_type": "markdown",
   "metadata": {},
   "source": [
    "### To do and known bugs:\n",
    "\n",
    "- Add option to clean environment by unsetting every change made by the plug-in in the shell environment;\n",
    "- Without CVMFS: if the user account is different from the CERN account, it will fail to download the svn package;\n",
    "- Make it python managed."
   ]
  },
  {
   "cell_type": "markdown",
   "metadata": {},
   "source": [
    "## buildthis.sh\n",
    "\n",
    "When sourced, this script will compile the environment as if using `rc compile`, but also taking care of other environment details needed by the packages compilation and setup, as defining the environment variables needed by the framework besides the ones defined by RootCore.\n",
    "\n",
    "If the script is executed instead of sourced, it will compile without any flaws, however you will need to run `./setrootcore.sh` to set the environment.\n",
    "\n",
    "*Important*: If you are using svn version of the RootCore (usually without CVMFS access), you will need to run the buildthis.sh twice. If you don't know what this means, just do this every time you want to build the program:\n",
    "\n",
    "```\n",
    "source buildthis.sh\n",
    "source buildthis.sh\n",
    "```\n",
    "\n",
    "It seems that the current RootCore versions are having trouble to update the Makefile.RootCore file before executing it, hence it is needed to run the first time to update the file and the second to correctly build the package. If, however, after executing a second time the same error is stated, then there is a bug and it should be reported."
   ]
  },
  {
   "cell_type": "code",
   "execution_count": 10,
   "metadata": {
    "collapsed": false
   },
   "outputs": [
    {
     "name": "stdout",
     "output_type": "stream",
     "text": [
      "Usage: bash [--clean|--veryclean|--distclean] [--no-build] [--cleanenv] [--grid]\n",
      "\n",
      "Compile RootCore environment and install it. This should be sourced, otherwise\n",
      "it won't change your shell environment and you may have issues using RootCore.\n",
      "\n",
      "    -h             display this help and return\n",
      "    --clean-env|--cleanenv\n",
      "                   This will clean environment files, although it won't reset\n",
      "                   the shell environment. It is better used with a new fresh\n",
      "                   cell before compiling.\n",
      "    --clean        Clean previous RootCore binaries and recompile.\n",
      "    --very-clean|--veryclean    \n",
      "                   As clean, but also clean previous environment files before\n",
      "                   recompiling.\n",
      "    --dist-clean|--distclean    \n",
      "                   As veryclean, but also clean previous installed dependencies\n",
      "                   before recompiling.\n",
      "    --no-build     Use this flag if you don't want to build the RootCore packages.\n",
      "                   When combined with the cleaning flags, it can be used to\n",
      "                   set package to start conditions.\n",
      "    --with-{var}   Set environment variable ${VAR} to true. This only makes effect\n",
      "                   if some dependent package checks for this variable.\n",
      "    --grid         Flag that compilation is for the grid environment. \n"
     ]
    }
   ],
   "source": [
    "%%bash\n",
    "source $ROOTCOREBIN/../buildthis.sh -h"
   ]
  },
  {
   "cell_type": "markdown",
   "metadata": {},
   "source": [
    "### Procedure for a clean build\n",
    "\n",
    "*This should only be needed by developers*\n",
    "\n",
    "If the RootCore project has already been installed and a build upon a clean environment is needed, consider following this procedure:\n"
   ]
  },
  {
   "cell_type": "code",
   "execution_count": null,
   "metadata": {
    "collapsed": false
   },
   "outputs": [],
   "source": [
    "%%bash\n",
    "# Clean everything\n",
    "source buildthis.sh --clean-env --dist-clean --no-build\n",
    "# Now open a new shell to have a clean environment and source the buildthis.sh with the desired flags.\n",
    "# This step can be skipped if you have used ./buildthis.sh instead of source buildthis.sh"
   ]
  },
  {
   "cell_type": "markdown",
   "metadata": {},
   "source": [
    "Some cases where this may be needed:\n",
    "\n",
    "- Add or removal of package dependencies on `precompile.sh`;\n",
    "- Need to change the shell environment variables order. "
   ]
  },
  {
   "cell_type": "markdown",
   "metadata": {},
   "source": [
    "### To do and known bugs\n",
    "\n",
    "- Make it python managed;\n",
    "- When using svn RootCore, it is needed to execute the script several times to have a successful build."
   ]
  },
  {
   "cell_type": "markdown",
   "metadata": {},
   "source": [
    "## setup_modules.sh\n",
    "\n",
    "In order to determine package dependencies and valid releases, meanwhile keeping packages independences, the frameworks use `git submodules`. This script aims on simplifying the usage for the user.\n",
    "\n",
    "The command usage is:"
   ]
  },
  {
   "cell_type": "code",
   "execution_count": 15,
   "metadata": {
    "collapsed": false
   },
   "outputs": [
    {
     "name": "stdout",
     "output_type": "stream",
     "text": [
      "Usage: setup_modules.sh [--dev] [--head]\n",
      "\n",
      "Initialize current master module and get child modules on their respective commits\n",
      "determined by the master module release.\n",
      "\n",
      "    -h                display this help and return\n",
      "    -d|--dev          If set to true, then retrieve commited packages with \n",
      "                      your ssh git push rights. Of course, this assumes that\n",
      "                      your git account has the rights to do so, otherwise it\n",
      "                      will fail. \n",
      "   -H|--head          It will update to the submodules head instead of the used\n",
      "                      commit versions stablished to be used by the packge.\n"
     ]
    }
   ],
   "source": [
    "%%bash\n",
    "./setup_modules.sh -h"
   ]
  },
  {
   "cell_type": "markdown",
   "metadata": {},
   "source": [
    "### Retrieving framework source codes for the first time\n",
    "\n",
    "The procedure to be followed is:\n",
    "\n",
    "```zsh\n",
    "git clone <project_url>\n",
    "./setup_modules.sh\n",
    "```\n",
    "\n",
    "where `<project_url>` can be any framework, as the [RingerProject](https://github.com/joaoVictorPinto/RingerProject) or [RingerTuning](https://github.com/wsfreund/RingerTuning).\n",
    "\n",
    "### Updating the framework to the last stable release\n",
    "\n",
    "Update the framework package and run again the `setup_modules.sh` as follows:\n",
    "\n",
    "```zsh\n",
    "git pull origin master\n",
    "./setup_modules.sh\n",
    "```\n",
    "### Remark for developers\n",
    "\n",
    "The `--dev` flag will change the submodules origins to work with your git ssh key, allowing you to push your changes to the package without any requests (as long your account has the permissions).\n",
    "\n",
    "On the other hand, the `--head` flag will set the packages to their last master commits (assumed to be the packages head commit)."
   ]
  },
  {
   "cell_type": "markdown",
   "metadata": {},
   "source": [
    "# Information for developers"
   ]
  },
  {
   "cell_type": "markdown",
   "metadata": {},
   "source": [
    "## base_env.sh\n",
    "\n",
    "When sourced, it defines constants to be used by the framework packages, as the name of the folders and the name of the new shell environment file. Also gives access to the content available on the `common_shell_fcns.sh`.\n",
    "\n",
    "Currently it defines the followin variables:\n",
    "\n",
    "- `MAKEFILE`: RootCore makefile name;\n",
    "- `BASE_NEW_ENV_FILE`: basic name of the new environment file;\n",
    "- `NEW_ENV_FILE`: environment file being used by the currently package being compiled;\n",
    "- `arch`: architeture of the processor (as defined by root-config);\n",
    "- `include_marker`: C++ include marker used by the compiler;\n",
    "- `include_system_marker`: C++ include system marker used by the compiler;\n",
    "- `DEP_AREA`: The area for downloading dependent packages;\n",
    "- `DEP_AREA_BSLASH`: Same as before, but with `$ROOTCOREBIN` not expanded;\n",
    "- `INSTALL_AREA`: Place for installing the dependencies binaries;\n",
    "- `INSTALL_AREA_BSLASH`: Same as before, but with `$ROOTCOREBIN` not expanded;\n"
   ]
  },
  {
   "cell_type": "markdown",
   "metadata": {},
   "source": [
    "## common_shell_fcns.sh\n",
    "\n",
    "It defines functions to be used by other packages: \n",
    "\n",
    "- `find_lib`: Check if library (`$1`) is available in `$LD_LIBRARY_PATH`;\n",
    "- `add_to_env_file`: Add value to the environment file, changed when `setrootcore.sh` is sourced, eg:\n",
    "\n",
    "```\n",
    "add_to_env_file PATH \"\\$ROOTCOREBIN/user_scripts/TuningTools/grid_scripts/\"\n",
    "```\n",
    "where the option `--only-set` can be used if this shouldn't be added to a variable of list type, but rather just set the variable to the value.\n",
    "\n",
    "- `add_to_env`: Changes current environment variable by adding the value to its list.\n"
   ]
  },
  {
   "cell_type": "markdown",
   "metadata": {},
   "source": [
    "## retrieve_python_info.sh\n",
    "\n",
    "Defines the following variables:\n",
    "\n",
    "- PYTHON_EXEC_PATH: Python binary base path;\n",
    "- PYTHON_VERSION_NUM: Python version, without '.' character;\n",
    "- PYTHON_INCLUDE_PATH: Python include path to be passed to the C++ compilers;\n",
    "- PYTHON_NUMPY_PATH (if `--numpy-info` specified): the base path to the numpy package;\n",
    "- INCLUDE_NUMPY (if `--numpy-info` specified): Numpy include path to be passed to the C++ compilers."
   ]
  },
  {
   "cell_type": "markdown",
   "metadata": {},
   "source": [
    "<script type=\"text/javascript\">\n",
    "    show=true;\n",
    "    function toggle(){\n",
    "        if (show){\n",
    "            $('div.input').hide();\n",
    "        }else{\n",
    "            $('div.input').show();\n",
    "        }\n",
    "        show = !show\n",
    "    }\n",
    "$.getScript('https://kmahelona.github.io/ipython_notebook_goodies/ipython_notebook_toc.js')\n",
    "</script>\n",
    "<a href=\"javascript:toggle()\" target=\"_self\"></a>"
   ]
  }
 ],
 "metadata": {
  "hide_input": false,
  "kernelspec": {
   "display_name": "Python 2",
   "language": "python",
   "name": "python2"
  },
  "language_info": {
   "codemirror_mode": {
    "name": "ipython",
    "version": 2
   },
   "file_extension": ".py",
   "mimetype": "text/x-python",
   "name": "python",
   "nbconvert_exporter": "python",
   "pygments_lexer": "ipython2",
   "version": "2.7.4"
  },
  "latex_envs": {
   "bibliofile": "biblio.bib",
   "cite_by": "apalike",
   "current_citInitial": 1,
   "eqLabelWithNumbers": true,
   "eqNumInitial": 0
  }
 },
 "nbformat": 4,
 "nbformat_minor": 0
}
